{
 "cells": [
  {
   "cell_type": "markdown",
   "metadata": {},
   "source": [
    "# 1. Initializing the workspace for the data preparation. I will use pyspark for this task."
   ]
  },
  {
   "cell_type": "code",
   "execution_count": 1,
   "metadata": {},
   "outputs": [],
   "source": [
    "from pyspark.sql import SparkSession\n",
    "import pandas as pd\n",
    "import matplotlib.pyplot as plt\n",
    "import seaborn as sns\n",
    "import os"
   ]
  },
  {
   "cell_type": "markdown",
   "metadata": {},
   "source": [
    "#### 2. We need to start a sparksession in order to use pyspark."
   ]
  },
  {
   "cell_type": "code",
   "execution_count": 2,
   "metadata": {},
   "outputs": [],
   "source": [
    "spark = SparkSession.builder.appName(\"data_cleaning_and_exploration\").getOrCreate()"
   ]
  },
  {
   "cell_type": "markdown",
   "metadata": {},
   "source": [
    "#### 3. We read the files one by one since there are only four files."
   ]
  },
  {
   "cell_type": "code",
   "execution_count": 5,
   "metadata": {},
   "outputs": [
    {
     "data": {
      "text/plain": [
       "{'EURUSD_M1.csv': DataFrame[Time\tOpen\tHigh\tLow\tClose\tVolume: string],\n",
       " 'GBPUSD_M1.csv': DataFrame[Time\tOpen\tHigh\tLow\tClose\tVolume: string],\n",
       " 'USDCAD_M1.csv': DataFrame[Time\tOpen\tHigh\tLow\tClose\tVolume: string],\n",
       " 'USDCHF_M1.csv': DataFrame[Time\tOpen\tHigh\tLow\tClose\tVolume: string]}"
      ]
     },
     "execution_count": 5,
     "metadata": {},
     "output_type": "execute_result"
    }
   ],
   "source": [
    "local_path = r\"C:\\Users\\yusuf\\OneDrive\\Desktop\\Forex Project\"\n",
    "#files are located on the same folder so simplifying access with just getting the relative\n",
    "def relative_path_getter(local_path):\n",
    "    csv_files = [f for f in os.listdir(local_path) if f.endswith(\".csv\") and os.path.isfile(os.path.join(local_path, f))]\n",
    "    return csv_files\n",
    "def df_creator(csv_files=None):\n",
    "    if csv_files == None:\n",
    "        return f\"there is no file to process for dataframe creation\"\n",
    "    file_store = {}\n",
    "    for file in csv_files:\n",
    "        root_file = os.path.basename(file)\n",
    "        file_store[root_file] = spark.read.csv(root_file, header=True ,inferSchema=True)\n",
    "    return file_store\n",
    "csv_file_names = relative_path_getter(local_path)\n",
    "dfs = df_creator(csv_file_names)\n",
    "dfs\n",
    "# EURUSD = spark.read.csv(\"EURUSD_M1.csv\",sep='\\t', header=True, inferSchema=True)\n",
    "# GBPUSD = spark.read.csv(\"GBPUSD_M1.csv\", sep='\\t', header=True, inferSchema=True)"
   ]
  },
  {
   "cell_type": "code",
   "execution_count": 4,
   "metadata": {},
   "outputs": [],
   "source": [
    "spark.stop()"
   ]
  }
 ],
 "metadata": {
  "kernelspec": {
   "display_name": "venv",
   "language": "python",
   "name": "python3"
  },
  "language_info": {
   "codemirror_mode": {
    "name": "ipython",
    "version": 3
   },
   "file_extension": ".py",
   "mimetype": "text/x-python",
   "name": "python",
   "nbconvert_exporter": "python",
   "pygments_lexer": "ipython3",
   "version": "3.11.4"
  }
 },
 "nbformat": 4,
 "nbformat_minor": 2
}
