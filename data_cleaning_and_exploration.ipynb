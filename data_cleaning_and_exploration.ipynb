{
 "cells": [
  {
   "cell_type": "markdown",
   "metadata": {},
   "source": [
    "# 1. Initializing the workspace for the data preparation. I will use pyspark for this task."
   ]
  },
  {
   "cell_type": "code",
   "execution_count": 1,
   "metadata": {},
   "outputs": [],
   "source": [
    "from pyspark.sql import SparkSession, types, functions\n",
    "import pandas as pd\n",
    "import matplotlib.pyplot as plt\n",
    "import os"
   ]
  },
  {
   "cell_type": "markdown",
   "metadata": {},
   "source": [
    "#### 2. We need to start a sparksession in order to use pyspark."
   ]
  },
  {
   "cell_type": "code",
   "execution_count": 2,
   "metadata": {},
   "outputs": [],
   "source": [
    "spark = SparkSession.builder.appName(\"data_cleaning_and_exploration\").getOrCreate()"
   ]
  },
  {
   "cell_type": "markdown",
   "metadata": {},
   "source": [
    "#### 3. creating two functions to read all the files "
   ]
  },
  {
   "cell_type": "code",
   "execution_count": 4,
   "metadata": {},
   "outputs": [
    {
     "data": {
      "text/plain": [
       "{'EURUSD_M1': DataFrame[Time: timestamp, Open: double, High: double, Low: double, Close: double, Volume: int],\n",
       " 'GBPUSD_M1': DataFrame[Time: timestamp, Open: double, High: double, Low: double, Close: double, Volume: int],\n",
       " 'USDCAD_M1': DataFrame[Time: timestamp, Open: double, High: double, Low: double, Close: double, Volume: int],\n",
       " 'USDCHF_M1': DataFrame[Time: timestamp, Open: double, High: double, Low: double, Close: double, Volume: int]}"
      ]
     },
     "execution_count": 4,
     "metadata": {},
     "output_type": "execute_result"
    }
   ],
   "source": [
    "local_path = r\"C:\\Users\\yusuf\\OneDrive\\Desktop\\Forex Project\"\n",
    "#files are located on the same folder so simplifying access with just getting the relative\n",
    "def relative_path_getter(local_path):\n",
    "    csv_files = [f for f in os.listdir(local_path) if f.endswith(\".csv\") and os.path.isfile(os.path.join(local_path, f))]\n",
    "    return csv_files\n",
    "def df_creator(csv_files=None, local_path=\"\"):\n",
    "    if csv_files == None:\n",
    "        return f\"there is no file to process for dataframe creation\"\n",
    "    file_store = {}\n",
    "    schema = types.StructType([\n",
    "        types.StructField(\"Time\", types.TimestampType(), True),\n",
    "        types.StructField(\"Open\", types.DoubleType(), True),\n",
    "        types.StructField(\"High\", types.DoubleType(), True),\n",
    "        types.StructField(\"Low\", types.DoubleType(), True),\n",
    "        types.StructField(\"Close\", types.DoubleType(), True),\n",
    "        types.StructField(\"Volume\", types.IntegerType(), True)\n",
    "    ])\n",
    "    for file in csv_files:\n",
    "        file_name = os.path.splitext(file)[0]\n",
    "        file_path = os.path.join(local_path, file)\n",
    "        file_store[file_name] = spark.read.csv(file_path, header=True ,schema=schema)\n",
    "    return file_store\n",
    "csv_file_names = relative_path_getter(local_path)\n",
    "dfs = df_creator(csv_file_names, local_path)\n",
    "dfs"
   ]
  },
  {
   "cell_type": "markdown",
   "metadata": {},
   "source": [
    "#### 4. Data exploration and Analysis"
   ]
  },
  {
   "cell_type": "code",
   "execution_count": null,
   "metadata": {},
   "outputs": [
    {
     "data": {
      "text/plain": [
       "{'EURUSD_M1': DataFrame[Time: timestamp, Open: double, High: double, Low: double, Close: double, Volume: int],\n",
       " 'GBPUSD_M1': DataFrame[Time: timestamp, Open: double, High: double, Low: double, Close: double, Volume: int],\n",
       " 'USDCAD_M1': DataFrame[Time: timestamp, Open: double, High: double, Low: double, Close: double, Volume: int],\n",
       " 'USDCHF_M1': DataFrame[Time: timestamp, Open: double, High: double, Low: double, Close: double, Volume: int]}"
      ]
     },
     "execution_count": 6,
     "metadata": {},
     "output_type": "execute_result"
    }
   ],
   "source": [
    "# it turns out that pyspark is not directly suited for the use of the classical visualization so we need to convert the data to pandas.\n",
    "# or skip the steps and directly do the cleaning on the data. or clean and prepare it then visualize it by creating pandas df copys of it.\n",
    "# which means we are going to do data cleaning first and then do visualizing later on and I think it is not possible to do feature engineering since there are already few columns and tasks is clear.\n",
    "def cleaner(files):\n",
    "    for name, file in files.items():\n",
    "        file = file.dropDuplicates()\n",
    "        # I will fill nas with mean values here.\n",
    "        mean_vals = {}\n",
    "        for col_name in file.columns:\n",
    "            try:\n",
    "                mean_vals[col_name] = file.select(functions.mean(col_name)).first()[0]\n",
    "            except:\n",
    "                pass\n",
    "        file = file.fillna(mean_vals)\n",
    "        files[name] = file\n",
    "    return files\n",
    "# Now time to add a feature engineering function so that we can create new features and train even greater model !!\n",
    "def feature_engineering(clean_files) -> dict:\n",
    "    pass\n",
    "#and I think of adding visualization function after doing all the stuff on the data or maybe I should be comparing data prior ??\n",
    "cleaned_files = cleaner(dfs)"
   ]
  },
  {
   "cell_type": "code",
   "execution_count": 4,
   "metadata": {},
   "outputs": [],
   "source": [
    "spark.stop()"
   ]
  }
 ],
 "metadata": {
  "kernelspec": {
   "display_name": "venv",
   "language": "python",
   "name": "python3"
  },
  "language_info": {
   "codemirror_mode": {
    "name": "ipython",
    "version": 3
   },
   "file_extension": ".py",
   "mimetype": "text/x-python",
   "name": "python",
   "nbconvert_exporter": "python",
   "pygments_lexer": "ipython3",
   "version": "3.11.4"
  }
 },
 "nbformat": 4,
 "nbformat_minor": 2
}
