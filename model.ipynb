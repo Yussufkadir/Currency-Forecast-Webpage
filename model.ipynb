{
 "cells": [
  {
   "cell_type": "code",
   "execution_count": 1,
   "metadata": {},
   "outputs": [],
   "source": [
    "import pandas as pd\n",
    "import numpy as np \n",
    "import matplotlib.pyplot as plt \n",
    "import seaborn as sns\n",
    "from prophet import Prophet\n",
    "import sys\n",
    "import os"
   ]
  },
  {
   "cell_type": "markdown",
   "metadata": {},
   "source": [
    "First load the dataframes one by one"
   ]
  },
  {
   "cell_type": "code",
   "execution_count": null,
   "metadata": {},
   "outputs": [],
   "source": [
    "path_of_files = r\"C:\\Users\\yusuf\\OneDrive\\Desktop\\Forex Project\"\n",
    "\n",
    "def load_dataFrames():\n",
    "    csv_files = [file for file in os.listdir(path_of_files) if file.endswith(\".csv\") and os.path.isfile(os.path.join(path_of_files, file))]\n",
    "    ## from the previous data preperation part we have seen that pyspark is actually not a good idea to use when we have pandas so I will directly take them as pandas DataFrames.\n",
    "    pd_dfs = {}\n",
    "    for file in csv_files:\n",
    "        file_path = os.path.join(path_of_files, file)\n",
    "        file_name = os.path.splitext(file)[0]\n",
    "        pd_dfs[file_name] = pd.read_csv(file_path)\n",
    "    return pd_dfs\n",
    "load_dataFrames()"
   ]
  },
  {
   "cell_type": "markdown",
   "metadata": {},
   "source": [
    "I think I will use facebook prophet since I am not used it prior and I it is highly recommended by the people who deal with the forecasting stuff."
   ]
  },
  {
   "cell_type": "code",
   "execution_count": null,
   "metadata": {},
   "outputs": [],
   "source": [
    "# we will first try the very beginner prophet model with close as the y and date as the ds parameter.\n",
    "\n",
    "for name, file in pd_dfs.items():\n",
    "\n",
    "    df_prophet = pd.DataFrame({\n",
    "    'ds': file.index,\n",
    "    'y': file[\"Close\"]\n",
    "    })\n",
    "\n",
    "    model = Prophet()\n",
    "    model.fit(df_prophet)"
   ]
  }
 ],
 "metadata": {
  "kernelspec": {
   "display_name": "venv",
   "language": "python",
   "name": "python3"
  },
  "language_info": {
   "codemirror_mode": {
    "name": "ipython",
    "version": 3
   },
   "file_extension": ".py",
   "mimetype": "text/x-python",
   "name": "python",
   "nbconvert_exporter": "python",
   "pygments_lexer": "ipython3",
   "version": "3.11.4"
  }
 },
 "nbformat": 4,
 "nbformat_minor": 2
}
